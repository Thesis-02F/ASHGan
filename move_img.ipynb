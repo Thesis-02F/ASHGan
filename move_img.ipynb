{
 "cells": [
  {
   "cell_type": "code",
   "execution_count": 1,
   "metadata": {},
   "outputs": [],
   "source": [
    "import os \n",
    "import shutil"
   ]
  },
  {
   "cell_type": "code",
   "execution_count": 3,
   "metadata": {},
   "outputs": [],
   "source": [
    "src_path='/home/g02f/Style-AttnGAN/output/birds_attn2_2022_03_12_21_50_16/Model/netG_epoch_250/valid/single'\n",
    "dest_path='/home/g02f/Style-AttnGAN/data/birds/CUB_200_2011/images/valid'\n",
    "img_dir='/home/g02f/Style-AttnGAN/data/birds/CUB_200_2011/images'"
   ]
  },
  {
   "cell_type": "code",
   "execution_count": 7,
   "metadata": {},
   "outputs": [],
   "source": [
    "subfolders=os.listdir(src_path)\n",
    "for folder in subfolders:\n",
    "    img_ls=os.listdir(os.path.join(img_dir,folder))\n",
    "    for im in img_ls:\n",
    "        shutil.copy(os.path.join(img_dir,folder,im),dest_path)\n"
   ]
  },
  {
   "cell_type": "code",
   "execution_count": 8,
   "metadata": {},
   "outputs": [
    {
     "data": {
      "text/plain": [
       "2933"
      ]
     },
     "execution_count": 8,
     "metadata": {},
     "output_type": "execute_result"
    }
   ],
   "source": [
    "len(os.listdir(dest_path))"
   ]
  },
  {
   "cell_type": "code",
   "execution_count": null,
   "metadata": {},
   "outputs": [],
   "source": []
  }
 ],
 "metadata": {
  "interpreter": {
   "hash": "7d32797ceb53d539372700b62cb654cb08c43e99c800375ebbba75dfab555eca"
  },
  "kernelspec": {
   "display_name": "Python 3.7.11 ('styleattn')",
   "language": "python",
   "name": "python3"
  },
  "language_info": {
   "codemirror_mode": {
    "name": "ipython",
    "version": 3
   },
   "file_extension": ".py",
   "mimetype": "text/x-python",
   "name": "python",
   "nbconvert_exporter": "python",
   "pygments_lexer": "ipython3",
   "version": "3.7.11"
  },
  "orig_nbformat": 4
 },
 "nbformat": 4,
 "nbformat_minor": 2
}
